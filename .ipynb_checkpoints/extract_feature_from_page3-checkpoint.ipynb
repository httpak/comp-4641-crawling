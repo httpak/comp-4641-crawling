{
 "cells": [
  {
   "cell_type": "code",
   "execution_count": 12,
   "metadata": {},
   "outputs": [],
   "source": [
    "from selenium import webdriver\n",
    "from selenium.webdriver.common.by import By\n",
    "from selenium.webdriver.support.ui import WebDriverWait\n",
    "from selenium.webdriver.support import expected_conditions as EC\n",
    "from selenium.common.exceptions import TimeoutException\n",
    "import time"
   ]
  },
  {
   "cell_type": "code",
   "execution_count": 2,
   "metadata": {},
   "outputs": [],
   "source": [
    "url = 'https://www.quora.com/What-are-some-alternatives-to-the-Bellman-Equation-in-reinforcement-learning'"
   ]
  },
  {
   "cell_type": "code",
   "execution_count": 3,
   "metadata": {},
   "outputs": [],
   "source": [
    "driver = webdriver.Chrome(executable_path='./chromedriver')\n",
    "driver.get(url)"
   ]
  },
  {
   "cell_type": "code",
   "execution_count": 4,
   "metadata": {},
   "outputs": [
    {
     "name": "stdout",
     "output_type": "stream",
     "text": [
      "What are some alternatives to the Bellman Equation in reinforcement learning?\n"
     ]
    }
   ],
   "source": [
    "# Extract Question\n",
    "question_title = driver.find_element_by_xpath('.//span[contains(@class, \"rendered_qtext\")]').text\n",
    "print(question_title)"
   ]
  },
  {
   "cell_type": "code",
   "execution_count": 5,
   "metadata": {},
   "outputs": [
    {
     "name": "stdout",
     "output_type": "stream",
     "text": [
      "3\n"
     ]
    }
   ],
   "source": [
    "# Extract answer count\n",
    "answer_count = driver.find_element_by_xpath(\"//div[@class = 'answer_count']\")\n",
    "text_count = answer_count.text.split()\n",
    "count = int((text_count[0].split('+'))[0])\n",
    "print(count)"
   ]
  },
  {
   "cell_type": "code",
   "execution_count": 6,
   "metadata": {},
   "outputs": [
    {
     "name": "stdout",
     "output_type": "stream",
     "text": [
      "['Bellman Equation', 'Reinforcement Learning', 'Machine Learning']\n"
     ]
    }
   ],
   "source": [
    "# Extract Topics\n",
    "topic_list = []\n",
    "topics = driver.find_elements_by_xpath(\".//span[@class = 'TopicName TopicNameSpan']\")\n",
    "for topic in topics:\n",
    "    topic_list.append(topic.text)\n",
    "print(topic_list)"
   ]
  },
  {
   "cell_type": "code",
   "execution_count": 7,
   "metadata": {},
   "outputs": [],
   "source": [
    "# Scroll down page\n",
    "current_scroll_position, new_height= 0, 1\n",
    "speed = 10 # this speed depend on how fast your computer can load a page\n",
    "while current_scroll_position <= new_height:\n",
    "    current_scroll_position += speed\n",
    "    driver.execute_script(\"window.scrollTo(0, {});\".format(current_scroll_position))\n",
    "    new_height = driver.execute_script(\"return document.body.scrollHeight\")"
   ]
  },
  {
   "cell_type": "code",
   "execution_count": 8,
   "metadata": {},
   "outputs": [],
   "source": [
    "# Expand all the answer\n",
    "hidden_list = driver.find_elements_by_xpath(\".//div[@class='ui_qtext_truncated ui_qtext_truncated_regular']/div[@class='ui_qtext_truncated_text']\")\n",
    "#print('Number of hidden answer:',len(hidden_list))\n",
    "for hidden in hidden_list:\n",
    "    hidden = hidden.find_element_by_xpath(\".//a[@class='ui_qtext_more_link']\")\n",
    "    webdriver.ActionChains(driver).move_to_element(hidden).click(hidden).perform()"
   ]
  },
  {
   "cell_type": "code",
   "execution_count": 11,
   "metadata": {},
   "outputs": [
    {
     "name": "stdout",
     "output_type": "stream",
     "text": [
      "Alex Seewald\n",
      "916\n",
      "\n",
      "Danijar Hafner\n",
      "659\n",
      "\n",
      "James MacGlashan\n",
      "957\n",
      "\n",
      "Respond collected: 3\n"
     ]
    }
   ],
   "source": [
    "# Extract each respond\n",
    "# Name, Date, content, no of upvote, view\n",
    "check_ans_count = 0\n",
    "\n",
    "name_list = []\n",
    "upvote_list = []\n",
    "ans_list = []\n",
    "date_list = []\n",
    "view_list = []\n",
    "error_list = []\n",
    "    \n",
    "respone_list = driver.find_elements_by_xpath(\".//div[contains(@class, 'AnswerBase')]\")\n",
    "for respone in respone_list:\n",
    "    ### Name ###\n",
    "    try:\n",
    "        user_name = respone.find_element_by_xpath('.//a[@class = \"user\"]')\n",
    "        print(user_name.text)\n",
    "        name_list.append(user_name.text)\n",
    "    except:\n",
    "        user_name = respone.find_element_by_xpath('.//span[contains(@class, \"anon_user\")]')\n",
    "        name_list.append(user_name.text)\n",
    "    except Exception as e:\n",
    "        error_list.append(e, question_title, check_ans_count)\n",
    "        name_list.append('')\n",
    "        print(error_list[-1])\n",
    "\n",
    "    ### Date ###\n",
    "    try:\n",
    "        date = respone.find_element_by_xpath(\".//a[@class = 'answer_permalink']\")\n",
    "        date_split = date.text.split('Answered ')\n",
    "        question_date = date_split[1]\n",
    "        date_list.append(question_date)\n",
    "    except Exception as e:\n",
    "        error_list.append(e, question_title, check_ans_count)\n",
    "        date_list.append('')\n",
    "        print(error_list[-1])\n",
    "\n",
    "    ### Features that show after expand ###\n",
    "    try:\n",
    "        expanded_answer = respone.find_element_by_xpath(\".//div[contains(@class,'ExpandedAnswer')]\")\n",
    "\n",
    "        ### Answer ###\n",
    "        try:\n",
    "            answer = expanded_answer.find_element_by_xpath(\".//div[@class='ui_qtext_expanded']/span[@class='ui_qtext_rendered_qtext']\")\n",
    "            ans_list.append(answer.text)\n",
    "        except Exception as e:\n",
    "            error_list.append(e, question_title, check_ans_count)\n",
    "            ans_list.append('')\n",
    "            print(error_list[-1])\n",
    "\n",
    "        ### Answer upvote ###\n",
    "        try:\n",
    "            upvote = expanded_answer.find_element_by_xpath(\".//a[@class='VoterListModalLink']\")\n",
    "            res = [int(i) for i in upvote.text.split() if i.isdigit()]\n",
    "            upvote_list.append(res[0])\n",
    "        except:\n",
    "            upvote_list.append(0)\n",
    "        except Exception as e:\n",
    "            error_list.append(e, question_title, check_ans_count)\n",
    "            upvote_list.append(0)\n",
    "            print(error_list[-1])\n",
    "\n",
    "        ### Answer view ###\n",
    "        try:\n",
    "            answer_footer = respone.find_element_by_xpath(\".//div[contains(@class, 'AnswerFooter')]\")\n",
    "            view_text = (answer_footer.text.split())[0]\n",
    "            if 'k' in view:\n",
    "                view = float((view_text.split('k'))[0]) * 1000\n",
    "            else:\n",
    "                view = int(view_text)\n",
    "            view_list.append(view)\n",
    "        except Exception as e:\n",
    "            error_list.append(e, question_title, check_ans_count)\n",
    "            view_list.append(0)\n",
    "            print(error_list[-1])\n",
    "    \n",
    "    except Exception as e:\n",
    "        error_list.append(e, question_title, check_ans_count)\n",
    "        print(error_list[-1])\n",
    " \n",
    "    check_ans_count += 1\n",
    "\n",
    "print(\"Respond collected:\", check_ans_count)"
   ]
  },
  {
   "cell_type": "code",
   "execution_count": 10,
   "metadata": {},
   "outputs": [],
   "source": [
    "# More statistic in another page\n",
    "driver.get(url+'/log')"
   ]
  },
  {
   "cell_type": "code",
   "execution_count": 11,
   "metadata": {},
   "outputs": [],
   "source": [
    "# Scroll down page -- make it faster later\n",
    "current_scroll_position, new_height= 0, 1\n",
    "speed = 5\n",
    "while current_scroll_position <= new_height:\n",
    "    current_scroll_position += speed\n",
    "    driver.execute_script(\"window.scrollTo(0, {});\".format(current_scroll_position))\n",
    "    new_height = driver.execute_script(\"return document.body.scrollHeight\")"
   ]
  },
  {
   "cell_type": "code",
   "execution_count": 12,
   "metadata": {},
   "outputs": [],
   "source": [
    "# Get the last item\n",
    "last_item = driver.find_elements_by_xpath(\".//div[@class = 'pagedlist_item']\")[-1]"
   ]
  },
  {
   "cell_type": "code",
   "execution_count": 13,
   "metadata": {},
   "outputs": [
    {
     "name": "stdout",
     "output_type": "stream",
     "text": [
      "Alex K. Chen\n"
     ]
    }
   ],
   "source": [
    "# Extract question anonymity\n",
    "try:\n",
    "    user_name = last_item.find_element_by_xpath(\".//span[@class = 'anon_user']\").text\n",
    "except:\n",
    "    user_name = last_item.find_element_by_xpath(\".//a[@class = 'user']\").text\n",
    "\n",
    "\n",
    "print(user_name)"
   ]
  },
  {
   "cell_type": "code",
   "execution_count": 14,
   "metadata": {},
   "outputs": [
    {
     "name": "stdout",
     "output_type": "stream",
     "text": [
      "Oct 17, 2016\n"
     ]
    }
   ],
   "source": [
    "# Extract create time\n",
    "question_data = last_item.find_element_by_xpath(\".//p[@class = 'log_action_bar']\")\n",
    "question_data_split = question_data.text.split('· ')\n",
    "question_date = question_data_split[1]\n",
    "print(question_date)"
   ]
  },
  {
   "cell_type": "code",
   "execution_count": 15,
   "metadata": {},
   "outputs": [
    {
     "name": "stdout",
     "output_type": "stream",
     "text": [
      "16\n",
      "3,388\n"
     ]
    }
   ],
   "source": [
    "# Question Stats\n",
    "# Followers, Views\n",
    "stats = driver.find_elements_by_xpath(\".//div[@class = 'u-flex u-flex-align--center u-padding-vert--xs u-text--gray-light pass_color_to_child_links u-sans-font-main--small']\")\n",
    "no_of_follower = int((stats[0].text.split(' '))[0])\n",
    "print(no_of_follower)\n",
    "\n",
    "no_of_view = (stats[1].text.split(' '))[0]\n",
    "print(no_of_view)"
   ]
  },
  {
   "cell_type": "code",
   "execution_count": null,
   "metadata": {},
   "outputs": [],
   "source": []
  }
 ],
 "metadata": {
  "kernelspec": {
   "display_name": "Python 3",
   "language": "python",
   "name": "python3"
  },
  "language_info": {
   "codemirror_mode": {
    "name": "ipython",
    "version": 3
   },
   "file_extension": ".py",
   "mimetype": "text/x-python",
   "name": "python",
   "nbconvert_exporter": "python",
   "pygments_lexer": "ipython3",
   "version": "3.5.2"
  }
 },
 "nbformat": 4,
 "nbformat_minor": 2
}
