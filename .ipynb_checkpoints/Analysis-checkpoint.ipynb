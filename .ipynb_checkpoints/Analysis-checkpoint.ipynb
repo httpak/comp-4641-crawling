{
 "cells": [
  {
   "cell_type": "code",
   "execution_count": 1,
   "metadata": {},
   "outputs": [
    {
     "ename": "ImportError",
     "evalue": "No module named 'pandas'",
     "output_type": "error",
     "traceback": [
      "\u001b[0;31m---------------------------------------------------------------------------\u001b[0m",
      "\u001b[0;31mImportError\u001b[0m                               Traceback (most recent call last)",
      "\u001b[0;32m<ipython-input-1-47bf12e749bb>\u001b[0m in \u001b[0;36m<module>\u001b[0;34m\u001b[0m\n\u001b[1;32m      2\u001b[0m \u001b[0;32mimport\u001b[0m \u001b[0mpprint\u001b[0m\u001b[0;34m\u001b[0m\u001b[0m\n\u001b[1;32m      3\u001b[0m \u001b[0;32mimport\u001b[0m \u001b[0mnumpy\u001b[0m \u001b[0;32mas\u001b[0m \u001b[0mnp\u001b[0m\u001b[0;34m\u001b[0m\u001b[0m\n\u001b[0;32m----> 4\u001b[0;31m \u001b[0;32mimport\u001b[0m \u001b[0mpandas\u001b[0m \u001b[0;32mas\u001b[0m \u001b[0mpd\u001b[0m\u001b[0;34m\u001b[0m\u001b[0m\n\u001b[0m\u001b[1;32m      5\u001b[0m \u001b[0mpp\u001b[0m \u001b[0;34m=\u001b[0m \u001b[0mpprint\u001b[0m\u001b[0;34m.\u001b[0m\u001b[0mPrettyPrinter\u001b[0m\u001b[0;34m(\u001b[0m\u001b[0mindent\u001b[0m\u001b[0;34m=\u001b[0m\u001b[0;36m4\u001b[0m\u001b[0;34m)\u001b[0m\u001b[0;34m\u001b[0m\u001b[0m\n\u001b[1;32m      6\u001b[0m \u001b[0;32mfrom\u001b[0m \u001b[0mcollections\u001b[0m \u001b[0;32mimport\u001b[0m \u001b[0mCounter\u001b[0m\u001b[0;34m\u001b[0m\u001b[0m\n",
      "\u001b[0;31mImportError\u001b[0m: No module named 'pandas'"
     ]
    }
   ],
   "source": [
    "import json\n",
    "import pprint\n",
    "import numpy as np\n",
    "import pandas as pd\n",
    "pp = pprint.PrettyPrinter(indent=4)\n",
    "from collections import Counter"
   ]
  },
  {
   "cell_type": "code",
   "execution_count": null,
   "metadata": {},
   "outputs": [],
   "source": [
    "def poplist(List,indexlist):\n",
    "    for i in indexlist:\n",
    "        List.pop(i)\n",
    "    print(len(List))\n",
    "    return List"
   ]
  },
  {
   "cell_type": "code",
   "execution_count": null,
   "metadata": {},
   "outputs": [],
   "source": [
    "def getlist(j,list,str):\n",
    "    temp = []\n",
    "    for i in list:\n",
    "        temp.append(j[i][str])\n",
    "    return temp    \n",
    "    "
   ]
  },
  {
   "cell_type": "code",
   "execution_count": null,
   "metadata": {},
   "outputs": [],
   "source": [
    "def readAnswer(filename):\n",
    "     with open(filename) as fh:\n",
    "        j = json.loads(fh.readline())\n",
    "        key = j.keys()\n",
    "        length = len(key)\n",
    "        keylist = []\n",
    "        for i in key:\n",
    "            keylist.append(i)\n",
    "        Total_num = 0\n",
    "        Non_Anony_num = 0\n",
    "        Anony_num = 0\n",
    "        for index in keylist:\n",
    "            answerDict = j[index][\"respond\"]\n",
    "            if answerDict != \"{}\":\n",
    "                answerkey = answerDict.keys()\n",
    "                answerkeylength = len(answerkey)\n",
    "                #print(\"answer_count: \", answerkeylength)\n",
    "                answerkeylist = []\n",
    "                for i in answerkey:\n",
    "                    answerkeylist.append(i)\n",
    "                view = getlist(answerDict,answerkeylist,\"view\")\n",
    "                \n",
    "                #print(\"view: \", view)\n",
    "                date = getlist(answerDict,answerkeylist,\"date\")\n",
    "                upvote = getlist(answerDict,answerkeylist,\"upvote\")\n",
    "                \n",
    "                #print(\"upvote: \", upvote)\n",
    "                answer = getlist(answerDict,answerkeylist,\"answer\")\n",
    "                answer_user_name = getlist(answerDict,answerkeylist,\"user_name\")\n",
    "                list3 = []\n",
    "                for i in answer_user_name:\n",
    "                    if(i == \"Anonymous\" or i == \"Quora User\"):\n",
    "                        list3.append(1)\n",
    "                    elif(i != None): \n",
    "                        list3.append(0)\n",
    "                answer_anonymity_list = list3\n",
    "                #print(\"answer_anonymity_list: \", answer_anonymity_list)\n",
    "                total_num = len(answer_anonymity_list)\n",
    "                non_anony_num = answer_anonymity_list.count(0)\n",
    "                anony_num = answer_anonymity_list.count(1)\n",
    "                Total_num += total_num\n",
    "                Non_Anony_num += non_anony_num\n",
    "                Anony_num += anony_num\n",
    "        print(\"Total number of answers for all questions is :\",Total_num)\n",
    "        print(\"Number of non-anonymous answers is :\",Non_Anony_num)\n",
    "        print(\"Number of anonymous answers is :\",Anony_num)\n",
    "                #print(\"Total number of answers is: \", len(answer_anonymity_list))\n",
    "                #print(\"Number of anonymous answers is: \",answer_anonymity_list.count(1))\n",
    "                #print(\"Number of non-anonymous answers is: \",answer_anonymity_list.count(0))\n",
    "                #return total_num,non_anony_num,anony_num\n",
    "        return Total_num,Non_Anony_num,Anony_num\n",
    "\n",
    "            "
   ]
  },
  {
   "cell_type": "code",
   "execution_count": null,
   "metadata": {},
   "outputs": [],
   "source": [
    "readAnswer(\"Relationships_answers.txt\")"
   ]
  },
  {
   "cell_type": "code",
   "execution_count": null,
   "metadata": {},
   "outputs": [],
   "source": [
    "def readData(filename):\n",
    "    with open(filename) as fh:\n",
    "        j = json.loads(fh.readline())\n",
    "        key = j.keys()\n",
    "        length = len(key)\n",
    "        #print(length)\n",
    "        keylist = []\n",
    "        for i in key:\n",
    "            keylist.append(i)\n",
    "        #print(\"The key list:\", len(keylist))\n",
    "        question_topics_list = getlist(j,keylist,\"topic_list\")\n",
    "        #print(\"question_topics_list: \", len(question_topics_list))\n",
    "        question_create_time_list = getlist(j,keylist,\"create_time\")\n",
    "        #print(\"question_create_time_list: \", question_create_time_list)\n",
    "        answer_count_list = getlist(j,keylist,\"answer_count\")\n",
    "        #print(\"answer_count_list: \", len(answer_count_list))\n",
    "        list1 = []\n",
    "        for i in answer_count_list:\n",
    "            if(i == \"error\"):\n",
    "                list1.append(0)\n",
    "            else: list1.append(int(i))\n",
    "        answer_count_list = list1\n",
    "        #print(\"answer_count_list: \", answer_count_list)\n",
    "        question_author_list = getlist(j,keylist,\"question_author\")\n",
    "        counter = Counter(question_author_list)\n",
    "        #print(\"question_author_list: \",question_author_list)\n",
    "        list2 = []\n",
    "        for i in question_author_list:\n",
    "            if(i == \"Anonymous\" or i == \"Quora User\"):\n",
    "                list2.append(1)\n",
    "            elif(i != None): \n",
    "                list2.append(0)\n",
    "        question_anonymity_list = list2\n",
    "        #print(\"question_anonymity_list: \", question_anonymity_list)\n",
    "        no_of_view_list = getlist(j,keylist,\"no_of_view\")\n",
    "        list3 = []\n",
    "        for i in no_of_view_list:\n",
    "            i = i.replace(',','')\n",
    "            if(i == \"error\"):\n",
    "                list3.append(0)\n",
    "            else: list3.append(int(i))\n",
    "        no_of_view_list = list3\n",
    "        #print(\"no_of_view_list: \", no_of_view_list)\n",
    "        no_of_follower_list = getlist(j,keylist,\"no_of_follower\")\n",
    "        list4 = []\n",
    "        for i in no_of_follower_list:\n",
    "            if(i == \"error\"):\n",
    "                list4.append(0)\n",
    "            else: list4.append(int(i))\n",
    "        no_of_follower_list = list4\n",
    "        #print(\"no_of_follower_list: \", no_of_follower_list)\n",
    "        question_title_list = getlist(j,keylist,\"question_title\")\n",
    "        #print(\"question_title_list: \",question_title_list)\n",
    "    \n",
    "        \n",
    "        \n",
    "    return keylist,question_topics_list,question_create_time_list,answer_count_list,\\\n",
    "               question_author_list,question_anonymity_list,no_of_view_list,no_of_follower_list,question_title_list"
   ]
  },
  {
   "cell_type": "code",
   "execution_count": null,
   "metadata": {},
   "outputs": [],
   "source": [
    "def analysis(filename):\n",
    "    keylist,question_topics_list,question_create_time_list,answer_count_list,question_author_list,question_anonymity_list,\\\n",
    "      no_of_view_list,no_of_follower_list,question_title_list=readData(filename)\n",
    "    Total_num,Non_Anony_num,Anony_num = readAnswer(filename)\n",
    "    length = len(question_author_list)\n",
    "    num_deleted = 0    \n",
    "    indexlist = []\n",
    "    for i in range(length):\n",
    "        if(question_author_list[i] == None):\n",
    "            #question_author_list.pop(i)\n",
    "            #question_anonymity_list.pop(i)\n",
    "            #question_topics_list.pop(i)\n",
    "            #question_create_time_list.pop(i)\n",
    "            #answer_count_list.pop(i)\n",
    "            #no_of_view_list.pop(i)\n",
    "            #no_of_follower_list.pop(i)\n",
    "            #question_title_list.pop(i)\n",
    "            #print(\"create_time:\",question_create_time_list[i])\n",
    "            #print(\"Question_title: \",question_title_list[i])\n",
    "            #print(\"answer_count: \", answer_count_list[i])\n",
    "            num_deleted += 1\n",
    "            indexlist.append(int(i))\n",
    "    #print(\"Number of deleted questions is : \", num_deleted)  \n",
    "    indexlist.sort(reverse=True)\n",
    "    #print(indexlist)\n",
    "    for i in range(len(indexlist)):\n",
    "        answer_count_list.pop(indexlist[i])\n",
    "        question_author_list.pop(indexlist[i])\n",
    "        #question_anonymity_list.pop(indexlist[i])\n",
    "        question_topics_list.pop(indexlist[i])\n",
    "        question_create_time_list.pop(indexlist[i])\n",
    "        answer_count_list.pop(indexlist[i])\n",
    "        no_of_view_list.pop(indexlist[i])\n",
    "        no_of_follower_list.pop(indexlist[i])\n",
    "        question_title_list.pop(indexlist[i])\n",
    "    \n",
    "    \n",
    "    print(\"Total number of questions: \", len(question_anonymity_list)+num_deleted)\n",
    "    print(\"Number of deleted questions is : \", num_deleted)  \n",
    "    print(\"Total number of questions extracted: \", len(question_anonymity_list))\n",
    "    print(\"Number of anonymous questions is: \",question_anonymity_list.count(1))\n",
    "    print(\"Number of non-anonymous questions is: \",question_anonymity_list.count(0))\n",
    "    print(\"Total number of answers: \", np.sum(answer_count_list))\n",
    "    print(\"Number of answers per question is: \", round(np.mean(answer_count_list),4))\n",
    "    temp = answer_count_list.count(0)\n",
    "    f = temp/float(len(question_anonymity_list))\n",
    "    print(\"Fraction of unanswered questions is: \", round(f,4))\n",
    "    print(\"Average number of question views is: \", round(np.mean(no_of_view_list),4))\n",
    "    print(\"Average number of question followers is: \", round(np.mean(no_of_follower_list),4))\n",
    "    "
   ]
  },
  {
   "cell_type": "code",
   "execution_count": null,
   "metadata": {},
   "outputs": [],
   "source": [
    "analysis(\"Relationships_answers.txt\")"
   ]
  },
  {
   "cell_type": "code",
   "execution_count": null,
   "metadata": {},
   "outputs": [],
   "source": [
    "analysis(\"Religion_answers.txt\")"
   ]
  },
  {
   "cell_type": "code",
   "execution_count": null,
   "metadata": {},
   "outputs": [],
   "source": [
    "analysis(\"Love_answers.txt\")"
   ]
  },
  {
   "cell_type": "code",
   "execution_count": null,
   "metadata": {},
   "outputs": [],
   "source": [
    "with open(\"Relationships_answers.txt\") as fh:\n",
    "    j = json.loads(fh.readline())\n",
    "    key = j.keys()\n",
    "    length = len(key)\n",
    "    keylist = []\n",
    "    for i in key:\n",
    "        keylist.append(i)\n",
    "    print(\"The key list:\", keylist[0])\n",
    "    list = getlist(j,keylist,\"create_time\")\n",
    "    print(list)\n",
    "    \n",
    "    #pp.pprint(jj)\n",
    "    #jj = j\n",
    "    #pp.pprint(jj)"
   ]
  },
  {
   "cell_type": "code",
   "execution_count": null,
   "metadata": {},
   "outputs": [],
   "source": []
  }
 ],
 "metadata": {
  "kernelspec": {
   "display_name": "Python 3",
   "language": "python",
   "name": "python3"
  },
  "language_info": {
   "codemirror_mode": {
    "name": "ipython",
    "version": 3
   },
   "file_extension": ".py",
   "mimetype": "text/x-python",
   "name": "python",
   "nbconvert_exporter": "python",
   "pygments_lexer": "ipython3",
   "version": "3.5.2"
  }
 },
 "nbformat": 4,
 "nbformat_minor": 2
}
