{
 "cells": [
  {
   "cell_type": "code",
   "execution_count": 1,
   "metadata": {},
   "outputs": [],
   "source": [
    "from selenium import webdriver\n",
    "from selenium.webdriver.common.by import By\n",
    "from selenium.webdriver.support.ui import WebDriverWait\n",
    "from selenium.webdriver.support import expected_conditions as EC\n",
    "from selenium.common.exceptions import TimeoutException\n",
    "import time"
   ]
  },
  {
   "cell_type": "code",
   "execution_count": 2,
   "metadata": {},
   "outputs": [],
   "source": [
    "url = 'https://www.quora.com/q/expresshowyoufeel/When-you-looked-at-the-mirror-today-what-did-you-see'"
   ]
  },
  {
   "cell_type": "code",
   "execution_count": 3,
   "metadata": {},
   "outputs": [
    {
     "ename": "WebDriverException",
     "evalue": "Message: 'chromedriver' executable may have wrong permissions. Please see https://sites.google.com/a/chromium.org/chromedriver/home\n",
     "output_type": "error",
     "traceback": [
      "\u001b[0;31m---------------------------------------------------------------------------\u001b[0m",
      "\u001b[0;31mPermissionError\u001b[0m                           Traceback (most recent call last)",
      "\u001b[0;32m/usr/local/lib/python3.5/dist-packages/selenium/webdriver/common/service.py\u001b[0m in \u001b[0;36mstart\u001b[0;34m(self)\u001b[0m\n\u001b[1;32m     75\u001b[0m                                             \u001b[0mstderr\u001b[0m\u001b[0;34m=\u001b[0m\u001b[0mself\u001b[0m\u001b[0;34m.\u001b[0m\u001b[0mlog_file\u001b[0m\u001b[0;34m,\u001b[0m\u001b[0;34m\u001b[0m\u001b[0m\n\u001b[0;32m---> 76\u001b[0;31m                                             stdin=PIPE)\n\u001b[0m\u001b[1;32m     77\u001b[0m         \u001b[0;32mexcept\u001b[0m \u001b[0mTypeError\u001b[0m\u001b[0;34m:\u001b[0m\u001b[0;34m\u001b[0m\u001b[0m\n",
      "\u001b[0;32m/usr/lib/python3.5/subprocess.py\u001b[0m in \u001b[0;36m__init__\u001b[0;34m(self, args, bufsize, executable, stdin, stdout, stderr, preexec_fn, close_fds, shell, cwd, env, universal_newlines, startupinfo, creationflags, restore_signals, start_new_session, pass_fds)\u001b[0m\n\u001b[1;32m    946\u001b[0m                                 \u001b[0merrread\u001b[0m\u001b[0;34m,\u001b[0m \u001b[0merrwrite\u001b[0m\u001b[0;34m,\u001b[0m\u001b[0;34m\u001b[0m\u001b[0m\n\u001b[0;32m--> 947\u001b[0;31m                                 restore_signals, start_new_session)\n\u001b[0m\u001b[1;32m    948\u001b[0m         \u001b[0;32mexcept\u001b[0m\u001b[0;34m:\u001b[0m\u001b[0;34m\u001b[0m\u001b[0m\n",
      "\u001b[0;32m/usr/lib/python3.5/subprocess.py\u001b[0m in \u001b[0;36m_execute_child\u001b[0;34m(self, args, executable, preexec_fn, close_fds, pass_fds, cwd, env, startupinfo, creationflags, shell, p2cread, p2cwrite, c2pread, c2pwrite, errread, errwrite, restore_signals, start_new_session)\u001b[0m\n\u001b[1;32m   1550\u001b[0m                                 \u001b[0merr_msg\u001b[0m \u001b[0;34m+=\u001b[0m \u001b[0;34m': '\u001b[0m \u001b[0;34m+\u001b[0m \u001b[0mrepr\u001b[0m\u001b[0;34m(\u001b[0m\u001b[0morig_executable\u001b[0m\u001b[0;34m)\u001b[0m\u001b[0;34m\u001b[0m\u001b[0m\n\u001b[0;32m-> 1551\u001b[0;31m                     \u001b[0;32mraise\u001b[0m \u001b[0mchild_exception_type\u001b[0m\u001b[0;34m(\u001b[0m\u001b[0merrno_num\u001b[0m\u001b[0;34m,\u001b[0m \u001b[0merr_msg\u001b[0m\u001b[0;34m)\u001b[0m\u001b[0;34m\u001b[0m\u001b[0m\n\u001b[0m\u001b[1;32m   1552\u001b[0m                 \u001b[0;32mraise\u001b[0m \u001b[0mchild_exception_type\u001b[0m\u001b[0;34m(\u001b[0m\u001b[0merr_msg\u001b[0m\u001b[0;34m)\u001b[0m\u001b[0;34m\u001b[0m\u001b[0m\n",
      "\u001b[0;31mPermissionError\u001b[0m: [Errno 13] Permission denied",
      "\nDuring handling of the above exception, another exception occurred:\n",
      "\u001b[0;31mWebDriverException\u001b[0m                        Traceback (most recent call last)",
      "\u001b[0;32m<ipython-input-3-8852d9614521>\u001b[0m in \u001b[0;36m<module>\u001b[0;34m\u001b[0m\n\u001b[0;32m----> 1\u001b[0;31m \u001b[0mdriver\u001b[0m \u001b[0;34m=\u001b[0m \u001b[0mwebdriver\u001b[0m\u001b[0;34m.\u001b[0m\u001b[0mChrome\u001b[0m\u001b[0;34m(\u001b[0m\u001b[0mexecutable_path\u001b[0m\u001b[0;34m=\u001b[0m\u001b[0;34m'./chromedriver'\u001b[0m\u001b[0;34m)\u001b[0m\u001b[0;34m\u001b[0m\u001b[0m\n\u001b[0m\u001b[1;32m      2\u001b[0m \u001b[0mdriver\u001b[0m\u001b[0;34m.\u001b[0m\u001b[0mget\u001b[0m\u001b[0;34m(\u001b[0m\u001b[0murl\u001b[0m\u001b[0;34m)\u001b[0m\u001b[0;34m\u001b[0m\u001b[0m\n",
      "\u001b[0;32m/usr/local/lib/python3.5/dist-packages/selenium/webdriver/chrome/webdriver.py\u001b[0m in \u001b[0;36m__init__\u001b[0;34m(self, executable_path, port, options, service_args, desired_capabilities, service_log_path, chrome_options, keep_alive)\u001b[0m\n\u001b[1;32m     71\u001b[0m             \u001b[0mservice_args\u001b[0m\u001b[0;34m=\u001b[0m\u001b[0mservice_args\u001b[0m\u001b[0;34m,\u001b[0m\u001b[0;34m\u001b[0m\u001b[0m\n\u001b[1;32m     72\u001b[0m             log_path=service_log_path)\n\u001b[0;32m---> 73\u001b[0;31m         \u001b[0mself\u001b[0m\u001b[0;34m.\u001b[0m\u001b[0mservice\u001b[0m\u001b[0;34m.\u001b[0m\u001b[0mstart\u001b[0m\u001b[0;34m(\u001b[0m\u001b[0;34m)\u001b[0m\u001b[0;34m\u001b[0m\u001b[0m\n\u001b[0m\u001b[1;32m     74\u001b[0m \u001b[0;34m\u001b[0m\u001b[0m\n\u001b[1;32m     75\u001b[0m         \u001b[0;32mtry\u001b[0m\u001b[0;34m:\u001b[0m\u001b[0;34m\u001b[0m\u001b[0m\n",
      "\u001b[0;32m/usr/local/lib/python3.5/dist-packages/selenium/webdriver/common/service.py\u001b[0m in \u001b[0;36mstart\u001b[0;34m(self)\u001b[0m\n\u001b[1;32m     86\u001b[0m                 raise WebDriverException(\n\u001b[1;32m     87\u001b[0m                     \"'%s' executable may have wrong permissions. %s\" % (\n\u001b[0;32m---> 88\u001b[0;31m                         os.path.basename(self.path), self.start_error_message)\n\u001b[0m\u001b[1;32m     89\u001b[0m                 )\n\u001b[1;32m     90\u001b[0m             \u001b[0;32melse\u001b[0m\u001b[0;34m:\u001b[0m\u001b[0;34m\u001b[0m\u001b[0m\n",
      "\u001b[0;31mWebDriverException\u001b[0m: Message: 'chromedriver' executable may have wrong permissions. Please see https://sites.google.com/a/chromium.org/chromedriver/home\n"
     ]
    }
   ],
   "source": [
    "driver = webdriver.Chrome(executable_path='./chromedriver')\n",
    "driver.get(url)"
   ]
  },
  {
   "cell_type": "code",
   "execution_count": 4,
   "metadata": {},
   "outputs": [
    {
     "ename": "NameError",
     "evalue": "name 'driver' is not defined",
     "output_type": "error",
     "traceback": [
      "\u001b[0;31m---------------------------------------------------------------------------\u001b[0m",
      "\u001b[0;31mNameError\u001b[0m                                 Traceback (most recent call last)",
      "\u001b[0;32m<ipython-input-4-6ff0419ddab9>\u001b[0m in \u001b[0;36m<module>\u001b[0;34m\u001b[0m\n\u001b[1;32m      1\u001b[0m \u001b[0;31m# Extract Question\u001b[0m\u001b[0;34m\u001b[0m\u001b[0;34m\u001b[0m\u001b[0m\n\u001b[0;32m----> 2\u001b[0;31m \u001b[0mquestion_title\u001b[0m \u001b[0;34m=\u001b[0m \u001b[0mdriver\u001b[0m\u001b[0;34m.\u001b[0m\u001b[0mfind_element_by_xpath\u001b[0m\u001b[0;34m(\u001b[0m\u001b[0;34m'.//span[contains(@class, \"rendered_qtext\")]'\u001b[0m\u001b[0;34m)\u001b[0m\u001b[0;34m.\u001b[0m\u001b[0mtext\u001b[0m\u001b[0;34m\u001b[0m\u001b[0m\n\u001b[0m\u001b[1;32m      3\u001b[0m \u001b[0mprint\u001b[0m\u001b[0;34m(\u001b[0m\u001b[0mquestion_title\u001b[0m\u001b[0;34m)\u001b[0m\u001b[0;34m\u001b[0m\u001b[0m\n",
      "\u001b[0;31mNameError\u001b[0m: name 'driver' is not defined"
     ]
    }
   ],
   "source": [
    "# Extract Question\n",
    "question_title = driver.find_element_by_xpath('.//span[contains(@class, \"rendered_qtext\")]').text\n",
    "print(question_title)"
   ]
  },
  {
   "cell_type": "code",
   "execution_count": 140,
   "metadata": {},
   "outputs": [
    {
     "name": "stdout",
     "output_type": "stream",
     "text": [
      "47\n"
     ]
    }
   ],
   "source": [
    "# Extract answer count\n",
    "answer_count = driver.find_element_by_xpath(\"//div[@class = 'answer_count']\")\n",
    "text_count = answer_count.text.split()\n",
    "count = int((text_count[0].split('+'))[0])\n",
    "print(count)"
   ]
  },
  {
   "cell_type": "code",
   "execution_count": 141,
   "metadata": {},
   "outputs": [
    {
     "name": "stdout",
     "output_type": "stream",
     "text": [
      "['Writing', 'Emotions', 'Music']\n"
     ]
    }
   ],
   "source": [
    "# Extract Topics\n",
    "topic_list = []\n",
    "topics = driver.find_elements_by_xpath(\".//span[@class = 'TopicName TopicNameSpan']\")\n",
    "for topic in topics:\n",
    "    topic_list.append(topic.text)\n",
    "print(topic_list)"
   ]
  },
  {
   "cell_type": "code",
   "execution_count": 142,
   "metadata": {},
   "outputs": [],
   "source": [
    "# Scroll down page\n",
    "current_scroll_position, new_height= 0, 1\n",
    "speed = 10\n",
    "while current_scroll_position <= new_height:\n",
    "    current_scroll_position += speed\n",
    "    driver.execute_script(\"window.scrollTo(0, {});\".format(current_scroll_position))\n",
    "    new_height = driver.execute_script(\"return document.body.scrollHeight\")"
   ]
  },
  {
   "cell_type": "code",
   "execution_count": 143,
   "metadata": {},
   "outputs": [],
   "source": [
    "# Expand all the answer\n",
    "hidden_list = driver.find_elements_by_xpath(\".//div[@class='ui_qtext_truncated ui_qtext_truncated_regular']/div[@class='ui_qtext_truncated_text']\")\n",
    "#print('Number of hidden answer:',len(hidden_list))\n",
    "for hidden in hidden_list:\n",
    "    hidden = hidden.find_element_by_xpath(\".//a[@class='ui_qtext_more_link']\")\n",
    "    webdriver.ActionChains(driver).move_to_element(hidden).click(hidden).perform()"
   ]
  },
  {
   "cell_type": "code",
   "execution_count": 146,
   "metadata": {},
   "outputs": [
    {
     "name": "stdout",
     "output_type": "stream",
     "text": [
      "KIm Hoskins\n",
      "276\n",
      "\n",
      "Leena Mohammed-Ali (لينا محمدعلي)\n",
      "188\n",
      "\n",
      "Alexis Bradley\n",
      "387\n",
      "\n",
      "Dana Previte Burdick\n",
      "227\n",
      "\n",
      "ISABELLA ESCAMILLA\n",
      "198\n",
      "\n",
      "Aman OS\n",
      "80\n",
      "\n",
      "Jeanie Wegner\n",
      "72\n",
      "\n",
      "Duke Nem\n",
      "123\n",
      "\n",
      "KunleBlack Oduwole\n",
      "137\n",
      "\n",
      "Aesthetic And Random\n",
      "81\n",
      "\n",
      "Glen Elizabeth\n",
      "139\n",
      "\n",
      "S. Lakshmi Narasimhan\n",
      "64\n",
      "\n",
      "Vainamoinen Leisti\n",
      "118\n",
      "\n",
      "Tom Starzik\n",
      "116\n",
      "\n",
      "Lìñda Nollinger\n",
      "81\n",
      "\n",
      "Jeffrey Brightbill\n",
      "67\n",
      "\n",
      "William Lampard\n",
      "58\n",
      "\n",
      "Anais Vionet\n",
      "327\n",
      "\n",
      "Caleb Layne\n",
      "49\n",
      "\n",
      "Ye Alice\n",
      "69\n",
      "\n",
      "Zayla Bhatt\n",
      "48\n",
      "\n",
      "Terry Ledwith\n",
      "50\n",
      "\n",
      "David Neal\n",
      "52\n",
      "\n",
      "Charlotte Nichole\n",
      "54\n",
      "\n",
      "Veronica Molina\n",
      "65\n",
      "\n",
      "Adisa Taylor\n",
      "74\n",
      "\n",
      "Mexican Takis\n",
      "36\n",
      "\n",
      "Edward Crossley\n",
      "33\n",
      "\n",
      "Eddie Lacinski\n",
      "44\n",
      "\n",
      "Lexie Clayton\n",
      "38\n",
      "\n",
      "Levanah-Danvers Rowell\n",
      "49\n",
      "\n",
      "James Pretorius\n",
      "36\n",
      "\n",
      "Alex Fraser\n",
      "37\n",
      "\n",
      "Emilia Chan\n",
      "55\n",
      "\n",
      "Billy Howard\n",
      "43\n",
      "\n",
      "Patricia Parga\n",
      "33\n",
      "\n",
      "Cee Beeby\n",
      "104\n",
      "\n",
      "Sage McBee\n",
      "30\n",
      "\n",
      "John Henshaw\n",
      "46\n",
      "\n",
      "Addison Lunn\n",
      "27\n",
      "\n",
      "Gummy Golden\n",
      "35\n",
      "\n",
      "Jason Bright\n",
      "28\n",
      "\n",
      "Ron Ashleigh\n",
      "43\n",
      "\n",
      "Delighted Rose\n",
      "44\n",
      "\n",
      "Blazerbob Sears\n",
      "96\n",
      "\n",
      "We Stan Satan\n",
      "33\n",
      "\n",
      "Castor Troy\n",
      "35\n",
      "\n",
      "Respond collected: 47\n"
     ]
    }
   ],
   "source": [
    "# Extract each respond\n",
    "# Name, Date, content, no of upvote, view\n",
    "check_ans_count = 0\n",
    "\n",
    "name_list = []\n",
    "upvote_list = []\n",
    "ans_list = []\n",
    "date_list = []\n",
    "view_list = []\n",
    "    \n",
    "respone_list = driver.find_elements_by_xpath(\".//div[contains(@class, 'AnswerBase')]\")\n",
    "for respone in respone_list:\n",
    "    # Name\n",
    "    try:\n",
    "        user_name = respone.find_element_by_xpath('.//a[@class = \"user\"]')\n",
    "        print(user_name.text)\n",
    "        name_list.append(user_name.text)\n",
    "\n",
    "    except:\n",
    "        user_name = respone.find_element_by_xpath('.//span[contains(@class, \"anon_user\")]')\n",
    "        #print(user_name.text)\n",
    "        name_list.append(user_name.text)\n",
    "\n",
    "    # Date\n",
    "    date = respone.find_element_by_xpath(\".//a[@class = 'answer_permalink']\")\n",
    "    date_split = date.text.split('Answered ')\n",
    "    question_date = date_split[1]\n",
    "    date_list.append(question_date)\n",
    "    #print(question_date)\n",
    "\n",
    "    # Features that show after expand\n",
    "    try:\n",
    "        expanded_answer = respone.find_element_by_xpath(\".//div[@class = 'ExpandedContent ExpandedAnswer']\")\n",
    "    except:\n",
    "        expanded_answer = respone.find_element_by_xpath(\".//div[@class = 'ExpandedAnswer ExpandedContent']\")\n",
    "\n",
    "    # Answer\n",
    "    answer = expanded_answer.find_element_by_xpath(\".//div[@class='ui_qtext_expanded']/span[@class='ui_qtext_rendered_qtext']\")\n",
    "    #print(answer.text)\n",
    "    ans_list.append(answer.text)\n",
    "\n",
    "    # Answer upvote\n",
    "    try:\n",
    "        upvote = expanded_answer.find_element_by_xpath(\".//a[@class='VoterListModalLink']\")\n",
    "        res = [int(i) for i in upvote.text.split() if i.isdigit()] \n",
    "        #print('Number of upvote:', res[0])\n",
    "        upvote_list.append(res[0])\n",
    "    except:\n",
    "        #print('Number of upvote: 0')\n",
    "        upvote_list.append(0)\n",
    "\n",
    "    # Answer view\n",
    "    answer_footer = respone.find_element_by_xpath(\".//div[contains(@class, 'AnswerFooter')]\")\n",
    "    view = int((answer_footer.text.split())[0])\n",
    "    view_list.append(view)\n",
    "    print(view)\n",
    "\n",
    "    print()    \n",
    "    check_ans_count += 1\n",
    "\n",
    "print(\"Respond collected:\", check_ans_count)"
   ]
  },
  {
   "cell_type": "code",
   "execution_count": 147,
   "metadata": {},
   "outputs": [],
   "source": [
    "# More statistic in another page\n",
    "driver.get(url+'/log')"
   ]
  },
  {
   "cell_type": "code",
   "execution_count": 148,
   "metadata": {},
   "outputs": [],
   "source": [
    "# Scroll down page -- make it faster later\n",
    "current_scroll_position, new_height= 0, 1\n",
    "speed = 5\n",
    "while current_scroll_position <= new_height:\n",
    "    current_scroll_position += speed\n",
    "    driver.execute_script(\"window.scrollTo(0, {});\".format(current_scroll_position))\n",
    "    new_height = driver.execute_script(\"return document.body.scrollHeight\")"
   ]
  },
  {
   "cell_type": "code",
   "execution_count": 149,
   "metadata": {},
   "outputs": [],
   "source": [
    "# Get the last item\n",
    "last_item = driver.find_elements_by_xpath(\".//div[@class = 'pagedlist_item']\")[-1]"
   ]
  },
  {
   "cell_type": "code",
   "execution_count": 150,
   "metadata": {},
   "outputs": [
    {
     "name": "stdout",
     "output_type": "stream",
     "text": [
      "Lewis Masha\n"
     ]
    }
   ],
   "source": [
    "# Extract question anonymity\n",
    "try:\n",
    "    user_name = last_item.find_element_by_xpath(\".//span[@class = 'anon_user']\").text\n",
    "except:\n",
    "    user_name = last_item.find_element_by_xpath(\".//a[@class = 'user']\").text\n",
    "\n",
    "print(user_name)"
   ]
  },
  {
   "cell_type": "code",
   "execution_count": 151,
   "metadata": {},
   "outputs": [
    {
     "name": "stdout",
     "output_type": "stream",
     "text": [
      "Apr 11, 2020\n"
     ]
    }
   ],
   "source": [
    "# Extract create time\n",
    "question_data = last_item.find_element_by_xpath(\".//p[@class = 'log_action_bar']\")\n",
    "question_data_split = question_data.text.split('· ')\n",
    "question_date = question_data_split[1]\n",
    "print(question_date)"
   ]
  },
  {
   "cell_type": "code",
   "execution_count": 152,
   "metadata": {},
   "outputs": [
    {
     "name": "stdout",
     "output_type": "stream",
     "text": [
      "28\n",
      "25,905\n"
     ]
    }
   ],
   "source": [
    "# Question Stats\n",
    "# Followers, Views\n",
    "stats = driver.find_elements_by_xpath(\".//div[@class = 'u-flex u-flex-align--center u-padding-vert--xs u-text--gray-light pass_color_to_child_links u-sans-font-main--small']\")\n",
    "no_of_follower = int((stats[0].text.split(' '))[0])\n",
    "print(no_of_follower)\n",
    "\n",
    "no_of_view = (stats[1].text.split(' '))[0]\n",
    "print(no_of_view)"
   ]
  },
  {
   "cell_type": "code",
   "execution_count": null,
   "metadata": {},
   "outputs": [],
   "source": []
  }
 ],
 "metadata": {
  "kernelspec": {
   "display_name": "Python 3",
   "language": "python",
   "name": "python3"
  },
  "language_info": {
   "codemirror_mode": {
    "name": "ipython",
    "version": 3
   },
   "file_extension": ".py",
   "mimetype": "text/x-python",
   "name": "python",
   "nbconvert_exporter": "python",
   "pygments_lexer": "ipython3",
   "version": "3.5.2"
  }
 },
 "nbformat": 4,
 "nbformat_minor": 2
}
