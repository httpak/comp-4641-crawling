{
 "cells": [
  {
   "cell_type": "code",
   "execution_count": 3,
   "metadata": {},
   "outputs": [
    {
     "name": "stdout",
     "output_type": "stream",
     "text": [
      "1680\n",
      "1860\n",
      "1160\n",
      "1400\n"
     ]
    }
   ],
   "source": [
    "import json\n",
    "import pprint\n",
    "pp = pprint.PrettyPrinter(indent=4)\n",
    "with open(\"Religion_answers.txt\") as fh:\n",
    "    j = json.loads(fh.readline())\n",
    "    #jj = j[\"0\"][\"respond\"][\"1\"]\n",
    "    #pp.pprint(jj)\n",
    "    #pp.pprint(len(j))\n",
    "    jj = j[\"questions\"]\n",
    "    #pp.pprint(len(j))\n",
    "    pp.pprint(len(jj))\n",
    "with open(\"Love_answers.txt\") as fh:\n",
    "    j = json.loads(fh.readline())\n",
    "    #jj = j[\"2\"][\"create_time\"]\n",
    "    #pp.pprint(jj)\n",
    "    jj = j[\"questions\"]\n",
    "    #pp.pprint(len(j))\n",
    "    pp.pprint(len(jj))\n",
    "with open(\"Relationships_answers.txt\") as fh:\n",
    "    j = json.loads(fh.readline())\n",
    "    jj = j[\"questions\"]\n",
    "    #pp.pprint(jj)\n",
    "    #jj = j\n",
    "    pp.pprint(len(jj))\n",
    "    \n",
    "with open(\"Photography_answers.txt\") as fh:\n",
    "    j = json.loads(fh.readline())\n",
    "    jj = j[\"questions\"]\n",
    "    #pp.pprint(jj)\n",
    "    #jj = j\n",
    "    pp.pprint(len(jj))\n",
    "    pp.pprint(jj)"
   ]
  },
  {
   "cell_type": "code",
   "execution_count": null,
   "metadata": {},
   "outputs": [],
   "source": []
  },
  {
   "cell_type": "code",
   "execution_count": null,
   "metadata": {},
   "outputs": [],
   "source": []
  },
  {
   "cell_type": "code",
   "execution_count": null,
   "metadata": {},
   "outputs": [],
   "source": []
  },
  {
   "cell_type": "code",
   "execution_count": null,
   "metadata": {},
   "outputs": [],
   "source": []
  }
 ],
 "metadata": {
  "kernelspec": {
   "display_name": "Python 3",
   "language": "python",
   "name": "python3"
  },
  "language_info": {
   "codemirror_mode": {
    "name": "ipython",
    "version": 3
   },
   "file_extension": ".py",
   "mimetype": "text/x-python",
   "name": "python",
   "nbconvert_exporter": "python",
   "pygments_lexer": "ipython3",
   "version": "3.5.2"
  }
 },
 "nbformat": 4,
 "nbformat_minor": 4
}
